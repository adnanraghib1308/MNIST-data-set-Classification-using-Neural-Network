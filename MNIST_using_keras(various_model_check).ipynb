{
  "nbformat": 4,
  "nbformat_minor": 0,
  "metadata": {
    "colab": {
      "name": "MNIST using keras(various model check).ipynb",
      "provenance": [],
      "collapsed_sections": [],
      "include_colab_link": true
    },
    "kernelspec": {
      "name": "python3",
      "display_name": "Python 3"
    }
  },
  "cells": [
    {
      "cell_type": "markdown",
      "metadata": {
        "id": "view-in-github",
        "colab_type": "text"
      },
      "source": [
        "<a href=\"https://colab.research.google.com/github/adnanraghib1308/MNIST-data-set-Classification-using-Neural-Network/blob/master/MNIST_using_keras(various_model_check).ipynb\" target=\"_parent\"><img src=\"https://colab.research.google.com/assets/colab-badge.svg\" alt=\"Open In Colab\"/></a>"
      ]
    },
    {
      "cell_type": "code",
      "metadata": {
        "id": "0Sh0vGqg7tC7",
        "colab_type": "code",
        "colab": {}
      },
      "source": [
        "from keras.utils import np_utils\n",
        "from keras.datasets import mnist\n",
        "import seaborn as sns\n",
        "from keras.initializers import RandomNormal"
      ],
      "execution_count": 0,
      "outputs": []
    },
    {
      "cell_type": "code",
      "metadata": {
        "id": "zDV41UA_73MZ",
        "colab_type": "code",
        "colab": {}
      },
      "source": [
        "import matplotlib.pyplot as plt\n",
        "import numpy as np\n",
        "import time\n",
        "\n",
        "#This function is used to update the plots for each epoch and error.\n",
        "def plot_dynamic(x, vy, ty, ax, colors=['b']):\n",
        "  ax.plot(x, vy,'b',label='Test Loss')\n",
        "  ax.plot(x, ty,'r',label='Train loss')\n",
        "  plt.legend()\n",
        "  plt.grid()\n",
        "  fig.canvas.draw()"
      ],
      "execution_count": 0,
      "outputs": []
    },
    {
      "cell_type": "code",
      "metadata": {
        "id": "fvBc1m3677nV",
        "colab_type": "code",
        "outputId": "add298a3-e030-4596-93a5-6542ec1343da",
        "colab": {
          "base_uri": "https://localhost:8080/",
          "height": 85
        }
      },
      "source": [
        "(X_train, y_train), (X_test, y_test)= mnist.load_data()\n",
        "print(\"Number of training examples: \", X_train.shape[0])\n",
        "print(\"Number of test examples: \", X_test.shape[0])\n",
        "\n",
        "# Here we convert the image into 1 D array\n",
        "X_train= X_train.reshape(60000,784)\n",
        "X_test = X_test.reshape(10000, 784)"
      ],
      "execution_count": 0,
      "outputs": [
        {
          "output_type": "stream",
          "text": [
            "Downloading data from https://s3.amazonaws.com/img-datasets/mnist.npz\n",
            "11493376/11490434 [==============================] - 2s 0us/step\n",
            "Number of training examples:  60000\n",
            "Number of test examples:  10000\n"
          ],
          "name": "stdout"
        }
      ]
    },
    {
      "cell_type": "code",
      "metadata": {
        "id": "dC8HYB_18Wl5",
        "colab_type": "code",
        "colab": {}
      },
      "source": [
        "#Data Normalization\n",
        "# X= (X - X_min) / (X_max - X_min)\n",
        "\n",
        "X_train= X_train/255\n",
        "X_test= X_test/255"
      ],
      "execution_count": 0,
      "outputs": []
    },
    {
      "cell_type": "code",
      "metadata": {
        "id": "pFgeTucz8as5",
        "colab_type": "code",
        "colab": {}
      },
      "source": [
        "# Here we are having a number (0-9) for each data point\n",
        "# we have to convert this into a 10 D vector\n",
        "# 7 = > (0,0,0,0,0,0,0,1,0,0)\n",
        "\n",
        "y_train=np_utils.to_categorical(y_train,10)\n",
        "y_test=np_utils.to_categorical(y_test, 10)"
      ],
      "execution_count": 0,
      "outputs": []
    },
    {
      "cell_type": "markdown",
      "metadata": {
        "id": "z3BUwxiz7OFi",
        "colab_type": "text"
      },
      "source": [
        "# 2 Layer Architecture\n",
        "**1.1 Without Batch Normalization and Droupout (No regularization)**"
      ]
    },
    {
      "cell_type": "code",
      "metadata": {
        "id": "DHxL4GWm7oSl",
        "colab_type": "code",
        "outputId": "74877a84-c886-460d-aac5-0ea5c4e7c5f8",
        "colab": {
          "base_uri": "https://localhost:8080/",
          "height": 34
        }
      },
      "source": [
        "from keras.models import Sequential\n",
        "from keras.layers import Dense, Activation\n",
        "from keras.regularizers import l2"
      ],
      "execution_count": 0,
      "outputs": [
        {
          "output_type": "stream",
          "text": [
            "Using TensorFlow backend.\n"
          ],
          "name": "stderr"
        }
      ]
    },
    {
      "cell_type": "code",
      "metadata": {
        "id": "Gzz9diLG8hWg",
        "colab_type": "code",
        "colab": {}
      },
      "source": [
        "# some model parameters\n",
        "\n",
        "output_dim= 10\n",
        "input_dim= 784\n",
        "hidden_1= 350\n",
        "hidden_2= 150\n",
        "batch_size= 100\n",
        "n_epoch= 20"
      ],
      "execution_count": 0,
      "outputs": []
    },
    {
      "cell_type": "code",
      "metadata": {
        "id": "cgqaufjf8-DT",
        "colab_type": "code",
        "colab": {}
      },
      "source": [
        "model_1_1= Sequential()\n",
        "model_1_1.add(Dense(hidden_1, input_dim=input_dim, activation='relu'))\n",
        "model_1_1.add(Dense(hidden_2, activation='relu'))\n",
        "model_1_1.add(Dense(output_dim, activation='softmax'))"
      ],
      "execution_count": 0,
      "outputs": []
    },
    {
      "cell_type": "code",
      "metadata": {
        "id": "EA9P0N-79kwY",
        "colab_type": "code",
        "outputId": "af8289f7-f75f-446a-a0b1-ca5ed8a09944",
        "colab": {
          "base_uri": "https://localhost:8080/",
          "height": 255
        }
      },
      "source": [
        "model_1_1.summary()"
      ],
      "execution_count": 0,
      "outputs": [
        {
          "output_type": "stream",
          "text": [
            "Model: \"sequential_2\"\n",
            "_________________________________________________________________\n",
            "Layer (type)                 Output Shape              Param #   \n",
            "=================================================================\n",
            "dense_4 (Dense)              (None, 350)               274750    \n",
            "_________________________________________________________________\n",
            "dense_5 (Dense)              (None, 150)               52650     \n",
            "_________________________________________________________________\n",
            "dense_6 (Dense)              (None, 10)                1510      \n",
            "=================================================================\n",
            "Total params: 328,910\n",
            "Trainable params: 328,910\n",
            "Non-trainable params: 0\n",
            "_________________________________________________________________\n"
          ],
          "name": "stdout"
        }
      ]
    },
    {
      "cell_type": "code",
      "metadata": {
        "id": "ucsf8Xww9pZw",
        "colab_type": "code",
        "outputId": "a0c919d7-30d6-4b60-a611-2f6414f944f6",
        "colab": {
          "base_uri": "https://localhost:8080/",
          "height": 1000
        }
      },
      "source": [
        "model_1_1.compile(optimizer='adam', loss='categorical_crossentropy', metrics=['accuracy'])\n",
        "m = model_1_1.fit(X_train, y_train, batch_size= batch_size, epochs= n_epoch, validation_data= (X_test, y_test)) "
      ],
      "execution_count": 0,
      "outputs": [
        {
          "output_type": "stream",
          "text": [
            "WARNING:tensorflow:From /usr/local/lib/python3.6/dist-packages/keras/optimizers.py:793: The name tf.train.Optimizer is deprecated. Please use tf.compat.v1.train.Optimizer instead.\n",
            "\n",
            "WARNING:tensorflow:From /usr/local/lib/python3.6/dist-packages/keras/backend/tensorflow_backend.py:3576: The name tf.log is deprecated. Please use tf.math.log instead.\n",
            "\n",
            "WARNING:tensorflow:From /usr/local/lib/python3.6/dist-packages/tensorflow_core/python/ops/math_grad.py:1424: where (from tensorflow.python.ops.array_ops) is deprecated and will be removed in a future version.\n",
            "Instructions for updating:\n",
            "Use tf.where in 2.0, which has the same broadcast rule as np.where\n",
            "WARNING:tensorflow:From /usr/local/lib/python3.6/dist-packages/keras/backend/tensorflow_backend.py:1033: The name tf.assign_add is deprecated. Please use tf.compat.v1.assign_add instead.\n",
            "\n",
            "WARNING:tensorflow:From /usr/local/lib/python3.6/dist-packages/keras/backend/tensorflow_backend.py:1020: The name tf.assign is deprecated. Please use tf.compat.v1.assign instead.\n",
            "\n",
            "WARNING:tensorflow:From /usr/local/lib/python3.6/dist-packages/keras/backend/tensorflow_backend.py:3005: The name tf.Session is deprecated. Please use tf.compat.v1.Session instead.\n",
            "\n",
            "Train on 60000 samples, validate on 10000 samples\n",
            "Epoch 1/20\n",
            "WARNING:tensorflow:From /usr/local/lib/python3.6/dist-packages/keras/backend/tensorflow_backend.py:190: The name tf.get_default_session is deprecated. Please use tf.compat.v1.get_default_session instead.\n",
            "\n",
            "WARNING:tensorflow:From /usr/local/lib/python3.6/dist-packages/keras/backend/tensorflow_backend.py:197: The name tf.ConfigProto is deprecated. Please use tf.compat.v1.ConfigProto instead.\n",
            "\n",
            "WARNING:tensorflow:From /usr/local/lib/python3.6/dist-packages/keras/backend/tensorflow_backend.py:207: The name tf.global_variables is deprecated. Please use tf.compat.v1.global_variables instead.\n",
            "\n",
            "WARNING:tensorflow:From /usr/local/lib/python3.6/dist-packages/keras/backend/tensorflow_backend.py:216: The name tf.is_variable_initialized is deprecated. Please use tf.compat.v1.is_variable_initialized instead.\n",
            "\n",
            "WARNING:tensorflow:From /usr/local/lib/python3.6/dist-packages/keras/backend/tensorflow_backend.py:223: The name tf.variables_initializer is deprecated. Please use tf.compat.v1.variables_initializer instead.\n",
            "\n",
            "60000/60000 [==============================] - 7s 117us/step - loss: 0.2354 - acc: 0.9316 - val_loss: 0.1091 - val_acc: 0.9681\n",
            "Epoch 2/20\n",
            "60000/60000 [==============================] - 6s 96us/step - loss: 0.0890 - acc: 0.9728 - val_loss: 0.0830 - val_acc: 0.9730\n",
            "Epoch 3/20\n",
            "60000/60000 [==============================] - 6s 94us/step - loss: 0.0577 - acc: 0.9819 - val_loss: 0.0845 - val_acc: 0.9737\n",
            "Epoch 4/20\n",
            "60000/60000 [==============================] - 6s 94us/step - loss: 0.0412 - acc: 0.9871 - val_loss: 0.0816 - val_acc: 0.9757\n",
            "Epoch 5/20\n",
            "60000/60000 [==============================] - 6s 94us/step - loss: 0.0306 - acc: 0.9907 - val_loss: 0.0832 - val_acc: 0.9738\n",
            "Epoch 6/20\n",
            "60000/60000 [==============================] - 6s 94us/step - loss: 0.0241 - acc: 0.9920 - val_loss: 0.0876 - val_acc: 0.9747\n",
            "Epoch 7/20\n",
            "60000/60000 [==============================] - 6s 94us/step - loss: 0.0219 - acc: 0.9929 - val_loss: 0.0771 - val_acc: 0.9785\n",
            "Epoch 8/20\n",
            "60000/60000 [==============================] - 6s 93us/step - loss: 0.0158 - acc: 0.9948 - val_loss: 0.0787 - val_acc: 0.9815\n",
            "Epoch 9/20\n",
            "60000/60000 [==============================] - 6s 94us/step - loss: 0.0156 - acc: 0.9950 - val_loss: 0.0753 - val_acc: 0.9807\n",
            "Epoch 10/20\n",
            "60000/60000 [==============================] - 6s 94us/step - loss: 0.0122 - acc: 0.9961 - val_loss: 0.0731 - val_acc: 0.9817\n",
            "Epoch 11/20\n",
            "60000/60000 [==============================] - 6s 95us/step - loss: 0.0137 - acc: 0.9955 - val_loss: 0.0893 - val_acc: 0.9782\n",
            "Epoch 12/20\n",
            "60000/60000 [==============================] - 6s 95us/step - loss: 0.0107 - acc: 0.9963 - val_loss: 0.1029 - val_acc: 0.9775\n",
            "Epoch 13/20\n",
            "60000/60000 [==============================] - 6s 94us/step - loss: 0.0095 - acc: 0.9966 - val_loss: 0.0848 - val_acc: 0.9819\n",
            "Epoch 14/20\n",
            "60000/60000 [==============================] - 6s 93us/step - loss: 0.0092 - acc: 0.9971 - val_loss: 0.0835 - val_acc: 0.9812\n",
            "Epoch 15/20\n",
            "60000/60000 [==============================] - 6s 96us/step - loss: 0.0070 - acc: 0.9978 - val_loss: 0.1093 - val_acc: 0.9778\n",
            "Epoch 16/20\n",
            "60000/60000 [==============================] - 6s 99us/step - loss: 0.0123 - acc: 0.9959 - val_loss: 0.0924 - val_acc: 0.9825\n",
            "Epoch 17/20\n",
            "60000/60000 [==============================] - 6s 97us/step - loss: 0.0078 - acc: 0.9974 - val_loss: 0.0934 - val_acc: 0.9800\n",
            "Epoch 18/20\n",
            "60000/60000 [==============================] - 6s 94us/step - loss: 0.0067 - acc: 0.9979 - val_loss: 0.1169 - val_acc: 0.9784\n",
            "Epoch 19/20\n",
            "60000/60000 [==============================] - 6s 93us/step - loss: 0.0063 - acc: 0.9979 - val_loss: 0.1009 - val_acc: 0.9791\n",
            "Epoch 20/20\n",
            "60000/60000 [==============================] - 6s 97us/step - loss: 0.0067 - acc: 0.9980 - val_loss: 0.1315 - val_acc: 0.9763\n"
          ],
          "name": "stdout"
        }
      ]
    },
    {
      "cell_type": "code",
      "metadata": {
        "id": "dkGxEtts9-jq",
        "colab_type": "code",
        "outputId": "e742420b-3250-40f9-8c5f-31fbe7886009",
        "colab": {
          "base_uri": "https://localhost:8080/",
          "height": 334
        }
      },
      "source": [
        "# Plot of loss vs epochs\n",
        "\n",
        "score= model_1_1.evaluate(X_test, y_test)\n",
        "print(\"Test SCore: \", score[0])\n",
        "print(\"Test Accuracy: \", score[1])\n",
        "\n",
        "fig, ax= plt.subplots(1,1)\n",
        "ax.set_xlabel('Epochs'); ax.set_ylabel(\"CATEGORICAL CROSS ENTROPY LOSS\")\n",
        "\n",
        "x=list(range(1, n_epoch+1))\n",
        "vy= m.history['val_loss']\n",
        "ty= m.history['loss']\n",
        "\n",
        "plot_dynamic(x,vy, ty, ax)"
      ],
      "execution_count": 0,
      "outputs": [
        {
          "output_type": "stream",
          "text": [
            "10000/10000 [==============================] - 1s 58us/step\n",
            "Test SCore:  0.1314639216924247\n",
            "Test Accuracy:  0.9763\n"
          ],
          "name": "stdout"
        },
        {
          "output_type": "display_data",
          "data": {
            "image/png": "[encoded data removed]",
            "text/plain": [
              "<Figure size 432x288 with 1 Axes>"
            ]
          },
          "metadata": {
            "tags": []
          }
        }
      ]
    },
    {
      "cell_type": "markdown",
      "metadata": {
        "id": "c2Z9R4MG-2w4",
        "colab_type": "text"
      },
      "source": [
        "**Conclusion**\n",
        "01. We can clearly see this is the case of overfitting thus regularization is required"
      ]
    },
    {
      "cell_type": "markdown",
      "metadata": {
        "id": "o74xhuHh_MIQ",
        "colab_type": "text"
      },
      "source": [
        "# 2 Layer Architecture\n",
        "**1.2 With Batch Normalization and Droupout (No regularization)**"
      ]
    },
    {
      "cell_type": "code",
      "metadata": {
        "id": "4mp4l-0d_mgW",
        "colab_type": "code",
        "colab": {}
      },
      "source": [
        "from keras.layers.normalization import BatchNormalization\n",
        "from keras.layers import Dropout"
      ],
      "execution_count": 0,
      "outputs": []
    },
    {
      "cell_type": "code",
      "metadata": {
        "id": "UVSN99yT-yZ4",
        "colab_type": "code",
        "outputId": "9363db39-8e89-4e92-bd1e-cfbd4521f007",
        "colab": {
          "base_uri": "https://localhost:8080/",
          "height": 122
        }
      },
      "source": [
        "model_1_2= Sequential()\n",
        "\n",
        "model_1_2.add(Dense(hidden_1, input_dim=input_dim, activation='relu'))\n",
        "model_1_2.add(BatchNormalization())\n",
        "model_1_2.add(Dropout(0.5))\n",
        "\n",
        "model_1_2.add(Dense(hidden_2, activation='relu'))\n",
        "model_1_2.add(BatchNormalization())\n",
        "model_1_2.add(Dropout(0.5))\n",
        "\n",
        "model_1_2.add(Dense(output_dim, activation='softmax'))"
      ],
      "execution_count": 0,
      "outputs": [
        {
          "output_type": "stream",
          "text": [
            "WARNING:tensorflow:From /usr/local/lib/python3.6/dist-packages/keras/backend/tensorflow_backend.py:148: The name tf.placeholder_with_default is deprecated. Please use tf.compat.v1.placeholder_with_default instead.\n",
            "\n",
            "WARNING:tensorflow:From /usr/local/lib/python3.6/dist-packages/keras/backend/tensorflow_backend.py:3733: calling dropout (from tensorflow.python.ops.nn_ops) with keep_prob is deprecated and will be removed in a future version.\n",
            "Instructions for updating:\n",
            "Please use `rate` instead of `keep_prob`. Rate should be set to `rate = 1 - keep_prob`.\n"
          ],
          "name": "stdout"
        }
      ]
    },
    {
      "cell_type": "code",
      "metadata": {
        "id": "zj5ifkBLANni",
        "colab_type": "code",
        "outputId": "24d72130-e7fa-48ba-c595-2a29a7e24ca3",
        "colab": {
          "base_uri": "https://localhost:8080/",
          "height": 714
        }
      },
      "source": [
        "model_1_2.compile(optimizer='adam', loss='categorical_crossentropy', metrics=['accuracy'])\n",
        "m = model_1_2.fit(X_train, y_train, batch_size= batch_size, epochs= n_epoch, validation_data= (X_test, y_test)) "
      ],
      "execution_count": 0,
      "outputs": [
        {
          "output_type": "stream",
          "text": [
            "Train on 60000 samples, validate on 10000 samples\n",
            "Epoch 1/20\n",
            "60000/60000 [==============================] - 8s 136us/step - loss: 0.4273 - acc: 0.8707 - val_loss: 0.1424 - val_acc: 0.9568\n",
            "Epoch 2/20\n",
            "60000/60000 [==============================] - 7s 125us/step - loss: 0.2185 - acc: 0.9336 - val_loss: 0.1032 - val_acc: 0.9681\n",
            "Epoch 3/20\n",
            "60000/60000 [==============================] - 7s 123us/step - loss: 0.1732 - acc: 0.9479 - val_loss: 0.0943 - val_acc: 0.9708\n",
            "Epoch 4/20\n",
            "60000/60000 [==============================] - 8s 127us/step - loss: 0.1502 - acc: 0.9545 - val_loss: 0.0865 - val_acc: 0.9733\n",
            "Epoch 5/20\n",
            "60000/60000 [==============================] - 7s 124us/step - loss: 0.1325 - acc: 0.9595 - val_loss: 0.0814 - val_acc: 0.9757\n",
            "Epoch 6/20\n",
            "60000/60000 [==============================] - 7s 124us/step - loss: 0.1247 - acc: 0.9625 - val_loss: 0.0761 - val_acc: 0.9758\n",
            "Epoch 7/20\n",
            "60000/60000 [==============================] - 7s 123us/step - loss: 0.1118 - acc: 0.9659 - val_loss: 0.0723 - val_acc: 0.9776\n",
            "Epoch 8/20\n",
            "60000/60000 [==============================] - 7s 123us/step - loss: 0.1125 - acc: 0.9655 - val_loss: 0.0740 - val_acc: 0.9773\n",
            "Epoch 9/20\n",
            "60000/60000 [==============================] - 7s 125us/step - loss: 0.1030 - acc: 0.9684 - val_loss: 0.0657 - val_acc: 0.9790\n",
            "Epoch 10/20\n",
            "60000/60000 [==============================] - 7s 124us/step - loss: 0.0950 - acc: 0.9713 - val_loss: 0.0652 - val_acc: 0.9804\n",
            "Epoch 11/20\n",
            "60000/60000 [==============================] - 8s 125us/step - loss: 0.0915 - acc: 0.9721 - val_loss: 0.0610 - val_acc: 0.9811\n",
            "Epoch 12/20\n",
            "60000/60000 [==============================] - 8s 130us/step - loss: 0.0855 - acc: 0.9738 - val_loss: 0.0607 - val_acc: 0.9811\n",
            "Epoch 13/20\n",
            "60000/60000 [==============================] - 8s 126us/step - loss: 0.0855 - acc: 0.9728 - val_loss: 0.0646 - val_acc: 0.9805\n",
            "Epoch 14/20\n",
            "60000/60000 [==============================] - 8s 129us/step - loss: 0.0773 - acc: 0.9754 - val_loss: 0.0610 - val_acc: 0.9808\n",
            "Epoch 15/20\n",
            "60000/60000 [==============================] - 7s 123us/step - loss: 0.0769 - acc: 0.9758 - val_loss: 0.0551 - val_acc: 0.9827\n",
            "Epoch 16/20\n",
            "60000/60000 [==============================] - 8s 133us/step - loss: 0.0736 - acc: 0.9764 - val_loss: 0.0558 - val_acc: 0.9824\n",
            "Epoch 17/20\n",
            "60000/60000 [==============================] - 8s 130us/step - loss: 0.0734 - acc: 0.9764 - val_loss: 0.0537 - val_acc: 0.9832\n",
            "Epoch 18/20\n",
            "60000/60000 [==============================] - 7s 125us/step - loss: 0.0669 - acc: 0.9786 - val_loss: 0.0584 - val_acc: 0.9815\n",
            "Epoch 19/20\n",
            "60000/60000 [==============================] - 7s 124us/step - loss: 0.0643 - acc: 0.9796 - val_loss: 0.0553 - val_acc: 0.9826\n",
            "Epoch 20/20\n",
            "60000/60000 [==============================] - 8s 127us/step - loss: 0.0661 - acc: 0.9795 - val_loss: 0.0564 - val_acc: 0.9833\n"
          ],
          "name": "stdout"
        }
      ]
    },
    {
      "cell_type": "code",
      "metadata": {
        "id": "cApHYIBHAXz3",
        "colab_type": "code",
        "outputId": "2c6f4a28-9428-4d25-af2b-8ac908565821",
        "colab": {
          "base_uri": "https://localhost:8080/",
          "height": 334
        }
      },
      "source": [
        "# Plot of loss vs epochs\n",
        "\n",
        "score= model_1_2.evaluate(X_test, y_test)\n",
        "print(\"Test SCore: \", score[0])\n",
        "print(\"Test Accuracy: \", score[1])\n",
        "\n",
        "fig, ax= plt.subplots(1,1)\n",
        "ax.set_xlabel('Epochs'); ax.set_ylabel(\"CATEGORICAL CROSS ENTROPY LOSS\")\n",
        "\n",
        "x=list(range(1, n_epoch+1))\n",
        "vy= m.history['val_loss']\n",
        "ty= m.history['loss']\n",
        "\n",
        "plot_dynamic(x,vy, ty, ax)"
      ],
      "execution_count": 0,
      "outputs": [
        {
          "output_type": "stream",
          "text": [
            "10000/10000 [==============================] - 1s 55us/step\n",
            "Test SCore:  0.05641758398373495\n",
            "Test Accuracy:  0.9833\n"
          ],
          "name": "stdout"
        },
        {
          "output_type": "display_data",
          "data": {
            "image/png": "[encoded data removed]",
            "text/plain": [
              "<Figure size 432x288 with 1 Axes>"
            ]
          },
          "metadata": {
            "tags": []
          }
        }
      ]
    },
    {
      "cell_type": "markdown",
      "metadata": {
        "id": "3soX52k1BEsR",
        "colab_type": "text"
      },
      "source": [
        "**Conclusion**\n",
        "01. Improve in test accuracy\n",
        "02. Much improved graph. No problem of overfiiting"
      ]
    },
    {
      "cell_type": "markdown",
      "metadata": {
        "id": "dC5RaKY0BWzs",
        "colab_type": "text"
      },
      "source": [
        "# 2 Layer Architecture\n",
        "**1.3 With Batch Normalization and Droupout (L2 regularization)**"
      ]
    },
    {
      "cell_type": "code",
      "metadata": {
        "id": "791tDcqIA_YI",
        "colab_type": "code",
        "colab": {}
      },
      "source": [
        "from keras.regularizers import l2"
      ],
      "execution_count": 0,
      "outputs": []
    },
    {
      "cell_type": "code",
      "metadata": {
        "id": "QbmMSYH3BnUK",
        "colab_type": "code",
        "colab": {}
      },
      "source": [
        "model_1_3= Sequential()\n",
        "\n",
        "model_1_3.add(Dense(hidden_1, input_dim=input_dim, kernel_regularizer=l2(0.01), activation='relu'))\n",
        "model_1_3.add(BatchNormalization())\n",
        "model_1_3.add(Dropout(0.5))\n",
        "\n",
        "model_1_3.add(Dense(hidden_2, kernel_regularizer=l2(0.01), activation='relu'))\n",
        "model_1_3.add(BatchNormalization())\n",
        "model_1_3.add(Dropout(0.5))\n",
        "\n",
        "model_1_3.add(Dense(output_dim, activation='softmax'))"
      ],
      "execution_count": 0,
      "outputs": []
    },
    {
      "cell_type": "code",
      "metadata": {
        "id": "NvtxYrMLCG43",
        "colab_type": "code",
        "outputId": "704a61b6-8eeb-49bb-c2b5-4f58d584a83f",
        "colab": {
          "base_uri": "https://localhost:8080/",
          "height": 714
        }
      },
      "source": [
        "model_1_3.compile(optimizer='adam', loss='categorical_crossentropy', metrics=['accuracy'])\n",
        "m = model_1_3.fit(X_train, y_train, batch_size= batch_size, epochs= n_epoch, validation_data= (X_test, y_test)) "
      ],
      "execution_count": 0,
      "outputs": [
        {
          "output_type": "stream",
          "text": [
            "Train on 60000 samples, validate on 10000 samples\n",
            "Epoch 1/20\n",
            "60000/60000 [==============================] - 9s 153us/step - loss: 2.3112 - acc: 0.8656 - val_loss: 0.7340 - val_acc: 0.9238\n",
            "Epoch 2/20\n",
            "60000/60000 [==============================] - 9s 144us/step - loss: 0.6524 - acc: 0.9137 - val_loss: 0.5025 - val_acc: 0.9400\n",
            "Epoch 3/20\n",
            "60000/60000 [==============================] - 9s 146us/step - loss: 0.5798 - acc: 0.9139 - val_loss: 0.4357 - val_acc: 0.9529\n",
            "Epoch 4/20\n",
            "60000/60000 [==============================] - 8s 139us/step - loss: 0.5492 - acc: 0.9143 - val_loss: 0.4167 - val_acc: 0.9487\n",
            "Epoch 5/20\n",
            "60000/60000 [==============================] - 8s 140us/step - loss: 0.5272 - acc: 0.9165 - val_loss: 0.4102 - val_acc: 0.9477\n",
            "Epoch 6/20\n",
            "60000/60000 [==============================] - 8s 138us/step - loss: 0.5193 - acc: 0.9148 - val_loss: 0.4160 - val_acc: 0.9425\n",
            "Epoch 7/20\n",
            "60000/60000 [==============================] - 8s 136us/step - loss: 0.5100 - acc: 0.9131 - val_loss: 0.4038 - val_acc: 0.9461\n",
            "Epoch 8/20\n",
            "60000/60000 [==============================] - 8s 138us/step - loss: 0.5007 - acc: 0.9138 - val_loss: 0.3651 - val_acc: 0.9544\n",
            "Epoch 9/20\n",
            "60000/60000 [==============================] - 8s 141us/step - loss: 0.4885 - acc: 0.9155 - val_loss: 0.3751 - val_acc: 0.9527\n",
            "Epoch 10/20\n",
            "60000/60000 [==============================] - 8s 141us/step - loss: 0.4869 - acc: 0.9159 - val_loss: 0.3801 - val_acc: 0.9455\n",
            "Epoch 11/20\n",
            "60000/60000 [==============================] - 8s 140us/step - loss: 0.4869 - acc: 0.9162 - val_loss: 0.3662 - val_acc: 0.9498\n",
            "Epoch 12/20\n",
            "60000/60000 [==============================] - 8s 139us/step - loss: 0.4737 - acc: 0.9180 - val_loss: 0.3520 - val_acc: 0.9562\n",
            "Epoch 13/20\n",
            "60000/60000 [==============================] - 8s 140us/step - loss: 0.4761 - acc: 0.9168 - val_loss: 0.3612 - val_acc: 0.9507\n",
            "Epoch 14/20\n",
            "60000/60000 [==============================] - 8s 141us/step - loss: 0.4763 - acc: 0.9169 - val_loss: 0.3542 - val_acc: 0.9530\n",
            "Epoch 15/20\n",
            "60000/60000 [==============================] - 8s 140us/step - loss: 0.4693 - acc: 0.9181 - val_loss: 0.3366 - val_acc: 0.9559\n",
            "Epoch 16/20\n",
            "60000/60000 [==============================] - 8s 140us/step - loss: 0.4772 - acc: 0.9148 - val_loss: 0.3392 - val_acc: 0.9550\n",
            "Epoch 17/20\n",
            "60000/60000 [==============================] - 8s 140us/step - loss: 0.4700 - acc: 0.9162 - val_loss: 0.3473 - val_acc: 0.9532\n",
            "Epoch 18/20\n",
            "60000/60000 [==============================] - 8s 138us/step - loss: 0.4679 - acc: 0.9173 - val_loss: 0.3416 - val_acc: 0.9542\n",
            "Epoch 19/20\n",
            "60000/60000 [==============================] - 8s 135us/step - loss: 0.4598 - acc: 0.9190 - val_loss: 0.3488 - val_acc: 0.9497\n",
            "Epoch 20/20\n",
            "60000/60000 [==============================] - 8s 138us/step - loss: 0.4678 - acc: 0.9172 - val_loss: 0.3434 - val_acc: 0.9533\n"
          ],
          "name": "stdout"
        }
      ]
    },
    {
      "cell_type": "code",
      "metadata": {
        "id": "YXB99y2nCQgS",
        "colab_type": "code",
        "outputId": "1a101f03-fd19-4885-c309-de93829cd57f",
        "colab": {
          "base_uri": "https://localhost:8080/",
          "height": 334
        }
      },
      "source": [
        "# Plot of loss vs epochs\n",
        "\n",
        "score= model_1_3.evaluate(X_test, y_test)\n",
        "print(\"Test SCore: \", score[0])\n",
        "print(\"Test Accuracy: \", score[1])\n",
        "\n",
        "fig, ax= plt.subplots(1,1)\n",
        "ax.set_xlabel('Epochs'); ax.set_ylabel(\"CATEGORICAL CROSS ENTROPY LOSS\")\n",
        "\n",
        "x=list(range(1, n_epoch+1))\n",
        "vy= m.history['val_loss']\n",
        "ty= m.history['loss']\n",
        "\n",
        "plot_dynamic(x,vy, ty, ax)"
      ],
      "execution_count": 0,
      "outputs": [
        {
          "output_type": "stream",
          "text": [
            "10000/10000 [==============================] - 1s 64us/step\n",
            "Test SCore:  0.3434308669567108\n",
            "Test Accuracy:  0.9533\n"
          ],
          "name": "stdout"
        },
        {
          "output_type": "display_data",
          "data": {
            "image/png": "[encoded data removed]",
            "text/plain": [
              "<Figure size 432x288 with 1 Axes>"
            ]
          },
          "metadata": {
            "tags": []
          }
        }
      ]
    },
    {
      "cell_type": "markdown",
      "metadata": {
        "id": "ChdP7_muDeu9",
        "colab_type": "text"
      },
      "source": [
        "**Conclusion**\n",
        "01. Accuracy reduced compared to previous model\n",
        "02. Poor convergance"
      ]
    },
    {
      "cell_type": "markdown",
      "metadata": {
        "id": "BZ0dXFXl011O",
        "colab_type": "text"
      },
      "source": [
        "# 3 Layer Architecture\n",
        "**2.1 Without Batch Normalization and Droupout (No regularization)**"
      ]
    },
    {
      "cell_type": "code",
      "metadata": {
        "id": "T__6-SERDP2k",
        "colab_type": "code",
        "colab": {}
      },
      "source": [
        "# 3 hidden layers\n",
        "# 784-512-256-32-10\n",
        "# some model parameters\n",
        "\n",
        "output_dim= 10\n",
        "input_dim= 784\n",
        "hidden_1= 512\n",
        "hidden_2= 256\n",
        "hidden_3= 32\n",
        "batch_size= 100\n",
        "n_epoch= 20"
      ],
      "execution_count": 0,
      "outputs": []
    },
    {
      "cell_type": "code",
      "metadata": {
        "id": "p7iyYr9uGiU0",
        "colab_type": "code",
        "outputId": "95f3846c-e6f3-4f6e-df6a-d5743e9e6da6",
        "colab": {
          "base_uri": "https://localhost:8080/",
          "height": 139
        }
      },
      "source": [
        "model_2_1= Sequential()\n",
        "model_2_1.add(Dense(hidden_1, input_dim=input_dim, activation='relu'))\n",
        "model_2_1.add(Dense(hidden_2, activation='relu'))\n",
        "model_2_1.add(Dense(hidden_3, activation='relu'))\n",
        "model_2_1.add(Dense(output_dim, activation='softmax'))"
      ],
      "execution_count": 0,
      "outputs": [
        {
          "output_type": "stream",
          "text": [
            "WARNING:tensorflow:From /usr/local/lib/python3.6/dist-packages/keras/backend/tensorflow_backend.py:66: The name tf.get_default_graph is deprecated. Please use tf.compat.v1.get_default_graph instead.\n",
            "\n",
            "WARNING:tensorflow:From /usr/local/lib/python3.6/dist-packages/keras/backend/tensorflow_backend.py:541: The name tf.placeholder is deprecated. Please use tf.compat.v1.placeholder instead.\n",
            "\n",
            "WARNING:tensorflow:From /usr/local/lib/python3.6/dist-packages/keras/backend/tensorflow_backend.py:4432: The name tf.random_uniform is deprecated. Please use tf.random.uniform instead.\n",
            "\n"
          ],
          "name": "stdout"
        }
      ]
    },
    {
      "cell_type": "code",
      "metadata": {
        "id": "N08mXxfdHBa3",
        "colab_type": "code",
        "outputId": "539f8056-71d6-4fa1-ac41-9a59c6821b01",
        "colab": {
          "base_uri": "https://localhost:8080/",
          "height": 1000
        }
      },
      "source": [
        "model_2_1.compile(optimizer='adam', loss='categorical_crossentropy', metrics=['accuracy'])\n",
        "m = model_2_1.fit(X_train, y_train, batch_size= batch_size, epochs= n_epoch, validation_data= (X_test, y_test)) "
      ],
      "execution_count": 0,
      "outputs": [
        {
          "output_type": "stream",
          "text": [
            "WARNING:tensorflow:From /usr/local/lib/python3.6/dist-packages/keras/optimizers.py:793: The name tf.train.Optimizer is deprecated. Please use tf.compat.v1.train.Optimizer instead.\n",
            "\n",
            "WARNING:tensorflow:From /usr/local/lib/python3.6/dist-packages/keras/backend/tensorflow_backend.py:3576: The name tf.log is deprecated. Please use tf.math.log instead.\n",
            "\n",
            "WARNING:tensorflow:From /usr/local/lib/python3.6/dist-packages/tensorflow_core/python/ops/math_grad.py:1424: where (from tensorflow.python.ops.array_ops) is deprecated and will be removed in a future version.\n",
            "Instructions for updating:\n",
            "Use tf.where in 2.0, which has the same broadcast rule as np.where\n",
            "WARNING:tensorflow:From /usr/local/lib/python3.6/dist-packages/keras/backend/tensorflow_backend.py:1033: The name tf.assign_add is deprecated. Please use tf.compat.v1.assign_add instead.\n",
            "\n",
            "WARNING:tensorflow:From /usr/local/lib/python3.6/dist-packages/keras/backend/tensorflow_backend.py:1020: The name tf.assign is deprecated. Please use tf.compat.v1.assign instead.\n",
            "\n",
            "WARNING:tensorflow:From /usr/local/lib/python3.6/dist-packages/keras/backend/tensorflow_backend.py:3005: The name tf.Session is deprecated. Please use tf.compat.v1.Session instead.\n",
            "\n",
            "Train on 60000 samples, validate on 10000 samples\n",
            "Epoch 1/20\n",
            "WARNING:tensorflow:From /usr/local/lib/python3.6/dist-packages/keras/backend/tensorflow_backend.py:190: The name tf.get_default_session is deprecated. Please use tf.compat.v1.get_default_session instead.\n",
            "\n",
            "WARNING:tensorflow:From /usr/local/lib/python3.6/dist-packages/keras/backend/tensorflow_backend.py:197: The name tf.ConfigProto is deprecated. Please use tf.compat.v1.ConfigProto instead.\n",
            "\n",
            "WARNING:tensorflow:From /usr/local/lib/python3.6/dist-packages/keras/backend/tensorflow_backend.py:207: The name tf.global_variables is deprecated. Please use tf.compat.v1.global_variables instead.\n",
            "\n",
            "WARNING:tensorflow:From /usr/local/lib/python3.6/dist-packages/keras/backend/tensorflow_backend.py:216: The name tf.is_variable_initialized is deprecated. Please use tf.compat.v1.is_variable_initialized instead.\n",
            "\n",
            "WARNING:tensorflow:From /usr/local/lib/python3.6/dist-packages/keras/backend/tensorflow_backend.py:223: The name tf.variables_initializer is deprecated. Please use tf.compat.v1.variables_initializer instead.\n",
            "\n",
            "60000/60000 [==============================] - 13s 213us/step - loss: 0.2271 - acc: 0.9327 - val_loss: 0.1110 - val_acc: 0.9650\n",
            "Epoch 2/20\n",
            "60000/60000 [==============================] - 10s 170us/step - loss: 0.0861 - acc: 0.9741 - val_loss: 0.0858 - val_acc: 0.9762\n",
            "Epoch 3/20\n",
            "60000/60000 [==============================] - 11s 179us/step - loss: 0.0568 - acc: 0.9826 - val_loss: 0.0889 - val_acc: 0.9735\n",
            "Epoch 4/20\n",
            "60000/60000 [==============================] - 11s 182us/step - loss: 0.0422 - acc: 0.9865 - val_loss: 0.0731 - val_acc: 0.9780\n",
            "Epoch 5/20\n",
            "60000/60000 [==============================] - 11s 186us/step - loss: 0.0349 - acc: 0.9882 - val_loss: 0.0654 - val_acc: 0.9805\n",
            "Epoch 6/20\n",
            "60000/60000 [==============================] - 10s 164us/step - loss: 0.0250 - acc: 0.9918 - val_loss: 0.0789 - val_acc: 0.9798\n",
            "Epoch 7/20\n",
            "60000/60000 [==============================] - 11s 178us/step - loss: 0.0241 - acc: 0.9922 - val_loss: 0.0787 - val_acc: 0.9784\n",
            "Epoch 8/20\n",
            "60000/60000 [==============================] - 11s 184us/step - loss: 0.0178 - acc: 0.9943 - val_loss: 0.0873 - val_acc: 0.9791\n",
            "Epoch 9/20\n",
            "60000/60000 [==============================] - 11s 186us/step - loss: 0.0170 - acc: 0.9945 - val_loss: 0.1006 - val_acc: 0.9761\n",
            "Epoch 10/20\n",
            "60000/60000 [==============================] - 10s 167us/step - loss: 0.0152 - acc: 0.9950 - val_loss: 0.0833 - val_acc: 0.9807\n",
            "Epoch 11/20\n",
            "60000/60000 [==============================] - 11s 191us/step - loss: 0.0150 - acc: 0.9951 - val_loss: 0.1131 - val_acc: 0.9740\n",
            "Epoch 12/20\n",
            "60000/60000 [==============================] - 11s 186us/step - loss: 0.0153 - acc: 0.9951 - val_loss: 0.0879 - val_acc: 0.9806\n",
            "Epoch 13/20\n",
            "60000/60000 [==============================] - 11s 181us/step - loss: 0.0118 - acc: 0.9961 - val_loss: 0.1182 - val_acc: 0.9767\n",
            "Epoch 14/20\n",
            "60000/60000 [==============================] - 11s 182us/step - loss: 0.0125 - acc: 0.9961 - val_loss: 0.0932 - val_acc: 0.9799\n",
            "Epoch 15/20\n",
            "60000/60000 [==============================] - 11s 180us/step - loss: 0.0103 - acc: 0.9967 - val_loss: 0.0937 - val_acc: 0.9810\n",
            "Epoch 16/20\n",
            "60000/60000 [==============================] - 11s 181us/step - loss: 0.0092 - acc: 0.9969 - val_loss: 0.0994 - val_acc: 0.9803\n",
            "Epoch 17/20\n",
            "60000/60000 [==============================] - 10s 172us/step - loss: 0.0086 - acc: 0.9974 - val_loss: 0.0943 - val_acc: 0.9807\n",
            "Epoch 18/20\n",
            "60000/60000 [==============================] - 11s 178us/step - loss: 0.0104 - acc: 0.9968 - val_loss: 0.1003 - val_acc: 0.9809\n",
            "Epoch 19/20\n",
            "60000/60000 [==============================] - 11s 182us/step - loss: 0.0085 - acc: 0.9971 - val_loss: 0.1099 - val_acc: 0.9796\n",
            "Epoch 20/20\n",
            "60000/60000 [==============================] - 11s 177us/step - loss: 0.0126 - acc: 0.9962 - val_loss: 0.0953 - val_acc: 0.9819\n"
          ],
          "name": "stdout"
        }
      ]
    },
    {
      "cell_type": "code",
      "metadata": {
        "id": "pI7QT18bHkfL",
        "colab_type": "code",
        "outputId": "bf2ed959-2796-401e-bf1e-5ec43fab2566",
        "colab": {
          "base_uri": "https://localhost:8080/",
          "height": 334
        }
      },
      "source": [
        "# Plot of loss vs epochs\n",
        "\n",
        "score= model_2_1.evaluate(X_test, y_test)\n",
        "print(\"Test SCore: \", score[0])\n",
        "print(\"Test Accuracy: \", score[1])\n",
        "\n",
        "fig, ax= plt.subplots(1,1)\n",
        "ax.set_xlabel('Epochs'); ax.set_ylabel(\"CATEGORICAL CROSS ENTROPY LOSS\")\n",
        "\n",
        "x=list(range(1, n_epoch+1))\n",
        "vy= m.history['val_loss']\n",
        "ty= m.history['loss']\n",
        "\n",
        "plot_dynamic(x,vy, ty, ax)"
      ],
      "execution_count": 0,
      "outputs": [
        {
          "output_type": "stream",
          "text": [
            "10000/10000 [==============================] - 1s 93us/step\n",
            "Test SCore:  0.09531402965732787\n",
            "Test Accuracy:  0.9819\n"
          ],
          "name": "stdout"
        },
        {
          "output_type": "display_data",
          "data": {
            "image/png": "[encoded data removed]",
            "text/plain": [
              "<Figure size 432x288 with 1 Axes>"
            ]
          },
          "metadata": {
            "tags": []
          }
        }
      ]
    },
    {
      "cell_type": "markdown",
      "metadata": {
        "id": "-bb2eug6IgBm",
        "colab_type": "text"
      },
      "source": [
        "**Conclusion**\n",
        "01. Clearly a case of overfitting"
      ]
    },
    {
      "cell_type": "markdown",
      "metadata": {
        "id": "R686a6xlH9pO",
        "colab_type": "text"
      },
      "source": [
        "# 3 Layer Architecture\n",
        "**2.2 With Batch Normalization and Droupout (No regularization)**"
      ]
    },
    {
      "cell_type": "code",
      "metadata": {
        "id": "mk_OQbqJIEnD",
        "colab_type": "code",
        "outputId": "48b00917-70d6-416f-e671-c751d7d8dd9f",
        "colab": {
          "base_uri": "https://localhost:8080/",
          "height": 618
        }
      },
      "source": [
        "model_2_2= Sequential()\n",
        "\n",
        "model_2_2.add(Dense(hidden_1, input_dim=input_dim, activation='relu'))\n",
        "model_2_2.add(BatchNormalization())\n",
        "model_2_2.add(Dropout(0.5))\n",
        "\n",
        "model_2_2.add(Dense(hidden_2, activation='relu'))\n",
        "model_2_2.add(BatchNormalization())\n",
        "model_2_2.add(Dropout(0.5))\n",
        "\n",
        "model_2_2.add(Dense(hidden_3, activation='relu'))\n",
        "model_2_2.add(BatchNormalization())\n",
        "model_2_2.add(Dropout(0.5))\n",
        "\n",
        "\n",
        "model_2_2.add(Dense(output_dim, activation='softmax'))\n",
        "model_2_2.summary()"
      ],
      "execution_count": 0,
      "outputs": [
        {
          "output_type": "stream",
          "text": [
            "WARNING:tensorflow:From /usr/local/lib/python3.6/dist-packages/keras/backend/tensorflow_backend.py:148: The name tf.placeholder_with_default is deprecated. Please use tf.compat.v1.placeholder_with_default instead.\n",
            "\n",
            "WARNING:tensorflow:From /usr/local/lib/python3.6/dist-packages/keras/backend/tensorflow_backend.py:3733: calling dropout (from tensorflow.python.ops.nn_ops) with keep_prob is deprecated and will be removed in a future version.\n",
            "Instructions for updating:\n",
            "Please use `rate` instead of `keep_prob`. Rate should be set to `rate = 1 - keep_prob`.\n",
            "Model: \"sequential_3\"\n",
            "_________________________________________________________________\n",
            "Layer (type)                 Output Shape              Param #   \n",
            "=================================================================\n",
            "dense_5 (Dense)              (None, 512)               401920    \n",
            "_________________________________________________________________\n",
            "batch_normalization_1 (Batch (None, 512)               2048      \n",
            "_________________________________________________________________\n",
            "dropout_1 (Dropout)          (None, 512)               0         \n",
            "_________________________________________________________________\n",
            "dense_6 (Dense)              (None, 256)               131328    \n",
            "_________________________________________________________________\n",
            "batch_normalization_2 (Batch (None, 256)               1024      \n",
            "_________________________________________________________________\n",
            "dropout_2 (Dropout)          (None, 256)               0         \n",
            "_________________________________________________________________\n",
            "dense_7 (Dense)              (None, 32)                8224      \n",
            "_________________________________________________________________\n",
            "batch_normalization_3 (Batch (None, 32)                128       \n",
            "_________________________________________________________________\n",
            "dropout_3 (Dropout)          (None, 32)                0         \n",
            "_________________________________________________________________\n",
            "dense_8 (Dense)              (None, 10)                330       \n",
            "=================================================================\n",
            "Total params: 545,002\n",
            "Trainable params: 543,402\n",
            "Non-trainable params: 1,600\n",
            "_________________________________________________________________\n"
          ],
          "name": "stdout"
        }
      ]
    },
    {
      "cell_type": "code",
      "metadata": {
        "id": "PKGw0dFHIsC9",
        "colab_type": "code",
        "outputId": "0d94fe9b-d3b9-48b6-c904-e980e9717da8",
        "colab": {
          "base_uri": "https://localhost:8080/",
          "height": 714
        }
      },
      "source": [
        "model_2_2.compile(optimizer='adam', loss='categorical_crossentropy', metrics=['accuracy'])\n",
        "m = model_2_2.fit(X_train, y_train, batch_size= batch_size, epochs= n_epoch, validation_data= (X_test, y_test)) "
      ],
      "execution_count": 0,
      "outputs": [
        {
          "output_type": "stream",
          "text": [
            "Train on 60000 samples, validate on 10000 samples\n",
            "Epoch 1/20\n",
            "60000/60000 [==============================] - 14s 234us/step - loss: 0.6355 - acc: 0.8142 - val_loss: 0.1648 - val_acc: 0.9484\n",
            "Epoch 2/20\n",
            "60000/60000 [==============================] - 13s 212us/step - loss: 0.2912 - acc: 0.9213 - val_loss: 0.1214 - val_acc: 0.9641\n",
            "Epoch 3/20\n",
            "60000/60000 [==============================] - 12s 208us/step - loss: 0.2302 - acc: 0.9385 - val_loss: 0.1040 - val_acc: 0.9701\n",
            "Epoch 4/20\n",
            "60000/60000 [==============================] - 12s 203us/step - loss: 0.1984 - acc: 0.9474 - val_loss: 0.0899 - val_acc: 0.9726\n",
            "Epoch 5/20\n",
            "60000/60000 [==============================] - 12s 204us/step - loss: 0.1785 - acc: 0.9529 - val_loss: 0.0878 - val_acc: 0.9746\n",
            "Epoch 6/20\n",
            "60000/60000 [==============================] - 12s 203us/step - loss: 0.1648 - acc: 0.9552 - val_loss: 0.0861 - val_acc: 0.9751\n",
            "Epoch 7/20\n",
            "60000/60000 [==============================] - 13s 211us/step - loss: 0.1480 - acc: 0.9607 - val_loss: 0.0780 - val_acc: 0.9787\n",
            "Epoch 8/20\n",
            "60000/60000 [==============================] - 12s 201us/step - loss: 0.1393 - acc: 0.9626 - val_loss: 0.0689 - val_acc: 0.9810\n",
            "Epoch 9/20\n",
            "60000/60000 [==============================] - 14s 230us/step - loss: 0.1323 - acc: 0.9643 - val_loss: 0.0798 - val_acc: 0.9771\n",
            "Epoch 10/20\n",
            "60000/60000 [==============================] - 12s 204us/step - loss: 0.1246 - acc: 0.9661 - val_loss: 0.0727 - val_acc: 0.9816\n",
            "Epoch 11/20\n",
            "60000/60000 [==============================] - 13s 209us/step - loss: 0.1170 - acc: 0.9688 - val_loss: 0.0670 - val_acc: 0.9796\n",
            "Epoch 12/20\n",
            "60000/60000 [==============================] - 14s 231us/step - loss: 0.1140 - acc: 0.9702 - val_loss: 0.0706 - val_acc: 0.9806\n",
            "Epoch 13/20\n",
            "60000/60000 [==============================] - 13s 216us/step - loss: 0.1060 - acc: 0.9716 - val_loss: 0.0635 - val_acc: 0.9825\n",
            "Epoch 14/20\n",
            "60000/60000 [==============================] - 13s 215us/step - loss: 0.1049 - acc: 0.9718 - val_loss: 0.0694 - val_acc: 0.9809\n",
            "Epoch 15/20\n",
            "60000/60000 [==============================] - 14s 239us/step - loss: 0.1005 - acc: 0.9730 - val_loss: 0.0637 - val_acc: 0.9824\n",
            "Epoch 16/20\n",
            "60000/60000 [==============================] - 13s 212us/step - loss: 0.0975 - acc: 0.9736 - val_loss: 0.0664 - val_acc: 0.9827\n",
            "Epoch 17/20\n",
            "60000/60000 [==============================] - 14s 229us/step - loss: 0.0934 - acc: 0.9751 - val_loss: 0.0664 - val_acc: 0.9822\n",
            "Epoch 18/20\n",
            "60000/60000 [==============================] - 13s 225us/step - loss: 0.0865 - acc: 0.9773 - val_loss: 0.0618 - val_acc: 0.9836\n",
            "Epoch 19/20\n",
            "60000/60000 [==============================] - 14s 225us/step - loss: 0.0858 - acc: 0.9765 - val_loss: 0.0702 - val_acc: 0.9815\n",
            "Epoch 20/20\n",
            "60000/60000 [==============================] - 13s 213us/step - loss: 0.0855 - acc: 0.9773 - val_loss: 0.0658 - val_acc: 0.9833\n"
          ],
          "name": "stdout"
        }
      ]
    },
    {
      "cell_type": "code",
      "metadata": {
        "id": "P3Eu9Sp1I_UB",
        "colab_type": "code",
        "outputId": "b7d0d458-79ef-4e1f-c67a-5f7d3c0c0d1d",
        "colab": {
          "base_uri": "https://localhost:8080/",
          "height": 334
        }
      },
      "source": [
        "# Plot of loss vs epochs\n",
        "\n",
        "score= model_2_2.evaluate(X_test, y_test)\n",
        "print(\"Test SCore: \", score[0])\n",
        "print(\"Test Accuracy: \", score[1])\n",
        "\n",
        "fig, ax= plt.subplots(1,1)\n",
        "ax.set_xlabel('Epochs'); ax.set_ylabel(\"CATEGORICAL CROSS ENTROPY LOSS\")\n",
        "\n",
        "x=list(range(1, n_epoch+1))\n",
        "vy= m.history['val_loss']\n",
        "ty= m.history['loss']\n",
        "\n",
        "plot_dynamic(x,vy, ty, ax)"
      ],
      "execution_count": 0,
      "outputs": [
        {
          "output_type": "stream",
          "text": [
            "10000/10000 [==============================] - 1s 100us/step\n",
            "Test SCore:  0.06579855370899895\n",
            "Test Accuracy:  0.9833\n"
          ],
          "name": "stdout"
        },
        {
          "output_type": "display_data",
          "data": {
            "image/png": "[encoded data removed]",
            "text/plain": [
              "<Figure size 432x288 with 1 Axes>"
            ]
          },
          "metadata": {
            "tags": []
          }
        }
      ]
    },
    {
      "cell_type": "markdown",
      "metadata": {
        "id": "twXidnAeMI9x",
        "colab_type": "text"
      },
      "source": [
        "**Conclusion**\n",
        "01. Same acciracy with 2 layer model.\n",
        "02. No overfitting, better graph.\n",
        "03. But no greater advantage of using 3 layer"
      ]
    },
    {
      "cell_type": "markdown",
      "metadata": {
        "id": "qGF_35mVJNJ_",
        "colab_type": "text"
      },
      "source": [
        "# 3 Layer Architecture\n",
        "**2.3 With Batch Normalization and Droupout (with regularization)**"
      ]
    },
    {
      "cell_type": "code",
      "metadata": {
        "id": "NB2EzsECJXyA",
        "colab_type": "code",
        "outputId": "9fd52c86-02b9-4c8b-e9a6-5d7827606fd3",
        "colab": {
          "base_uri": "https://localhost:8080/",
          "height": 493
        }
      },
      "source": [
        "model_2_3= Sequential()\n",
        "\n",
        "model_2_3.add(Dense(hidden_1, input_dim=input_dim, kernel_regularizer=l2(0.001), activation='relu'))\n",
        "model_2_3.add(BatchNormalization())\n",
        "model_2_3.add(Dropout(0.5))\n",
        "\n",
        "model_2_3.add(Dense(hidden_2, kernel_regularizer=l2(0.001), activation='relu'))\n",
        "model_2_3.add(BatchNormalization())\n",
        "model_2_3.add(Dropout(0.5))\n",
        "\n",
        "model_2_3.add(Dense(hidden_3, kernel_regularizer=l2(0.001), activation='relu'))\n",
        "model_2_3.add(BatchNormalization())\n",
        "model_2_3.add(Dropout(0.5))\n",
        "\n",
        "\n",
        "model_2_3.add(Dense(output_dim, activation='softmax'))\n",
        "model_2_3.summary()"
      ],
      "execution_count": 0,
      "outputs": [
        {
          "output_type": "stream",
          "text": [
            "Model: \"sequential_5\"\n",
            "_________________________________________________________________\n",
            "Layer (type)                 Output Shape              Param #   \n",
            "=================================================================\n",
            "dense_13 (Dense)             (None, 512)               401920    \n",
            "_________________________________________________________________\n",
            "batch_normalization_7 (Batch (None, 512)               2048      \n",
            "_________________________________________________________________\n",
            "dropout_7 (Dropout)          (None, 512)               0         \n",
            "_________________________________________________________________\n",
            "dense_14 (Dense)             (None, 256)               131328    \n",
            "_________________________________________________________________\n",
            "batch_normalization_8 (Batch (None, 256)               1024      \n",
            "_________________________________________________________________\n",
            "dropout_8 (Dropout)          (None, 256)               0         \n",
            "_________________________________________________________________\n",
            "dense_15 (Dense)             (None, 32)                8224      \n",
            "_________________________________________________________________\n",
            "batch_normalization_9 (Batch (None, 32)                128       \n",
            "_________________________________________________________________\n",
            "dropout_9 (Dropout)          (None, 32)                0         \n",
            "_________________________________________________________________\n",
            "dense_16 (Dense)             (None, 10)                330       \n",
            "=================================================================\n",
            "Total params: 545,002\n",
            "Trainable params: 543,402\n",
            "Non-trainable params: 1,600\n",
            "_________________________________________________________________\n"
          ],
          "name": "stdout"
        }
      ]
    },
    {
      "cell_type": "code",
      "metadata": {
        "id": "dAP29OyAKxev",
        "colab_type": "code",
        "outputId": "cb3999a1-003d-48da-e696-5ae3d734a6c9",
        "colab": {
          "base_uri": "https://localhost:8080/",
          "height": 714
        }
      },
      "source": [
        "model_2_3.compile(optimizer='adam', loss='categorical_crossentropy', metrics=['accuracy'])\n",
        "m = model_2_3.fit(X_train, y_train, batch_size= batch_size, epochs= n_epoch, validation_data= (X_test, y_test)) "
      ],
      "execution_count": 0,
      "outputs": [
        {
          "output_type": "stream",
          "text": [
            "Train on 60000 samples, validate on 10000 samples\n",
            "Epoch 1/20\n",
            "60000/60000 [==============================] - 15s 255us/step - loss: 1.3089 - acc: 0.8170 - val_loss: 0.6908 - val_acc: 0.9483\n",
            "Epoch 2/20\n",
            "60000/60000 [==============================] - 15s 244us/step - loss: 0.7307 - acc: 0.9200 - val_loss: 0.4952 - val_acc: 0.9600\n",
            "Epoch 3/20\n",
            "60000/60000 [==============================] - 15s 246us/step - loss: 0.5783 - acc: 0.9325 - val_loss: 0.4082 - val_acc: 0.9645\n",
            "Epoch 4/20\n",
            "60000/60000 [==============================] - 14s 239us/step - loss: 0.5031 - acc: 0.9374 - val_loss: 0.3675 - val_acc: 0.9648\n",
            "Epoch 5/20\n",
            "60000/60000 [==============================] - 15s 245us/step - loss: 0.4651 - acc: 0.9402 - val_loss: 0.3415 - val_acc: 0.9670\n",
            "Epoch 6/20\n",
            "60000/60000 [==============================] - 15s 249us/step - loss: 0.4535 - acc: 0.9394 - val_loss: 0.3366 - val_acc: 0.9659\n",
            "Epoch 7/20\n",
            "60000/60000 [==============================] - 15s 255us/step - loss: 0.4404 - acc: 0.9411 - val_loss: 0.3432 - val_acc: 0.9645\n",
            "Epoch 8/20\n",
            "60000/60000 [==============================] - 15s 242us/step - loss: 0.4321 - acc: 0.9419 - val_loss: 0.3211 - val_acc: 0.9681\n",
            "Epoch 9/20\n",
            "60000/60000 [==============================] - 15s 246us/step - loss: 0.4271 - acc: 0.9433 - val_loss: 0.3014 - val_acc: 0.9708\n",
            "Epoch 10/20\n",
            "60000/60000 [==============================] - 15s 243us/step - loss: 0.4163 - acc: 0.9431 - val_loss: 0.3111 - val_acc: 0.9668\n",
            "Epoch 11/20\n",
            "60000/60000 [==============================] - 14s 235us/step - loss: 0.4197 - acc: 0.9410 - val_loss: 0.2939 - val_acc: 0.9719\n",
            "Epoch 12/20\n",
            "60000/60000 [==============================] - 13s 216us/step - loss: 0.4111 - acc: 0.9423 - val_loss: 0.2870 - val_acc: 0.9710\n",
            "Epoch 13/20\n",
            "60000/60000 [==============================] - 14s 229us/step - loss: 0.4001 - acc: 0.9435 - val_loss: 0.2958 - val_acc: 0.9709\n",
            "Epoch 14/20\n",
            "60000/60000 [==============================] - 14s 231us/step - loss: 0.3982 - acc: 0.9432 - val_loss: 0.2983 - val_acc: 0.9666\n",
            "Epoch 15/20\n",
            "60000/60000 [==============================] - 14s 238us/step - loss: 0.3948 - acc: 0.9433 - val_loss: 0.2825 - val_acc: 0.9704\n",
            "Epoch 16/20\n",
            "60000/60000 [==============================] - 14s 235us/step - loss: 0.3924 - acc: 0.9457 - val_loss: 0.2911 - val_acc: 0.9679\n",
            "Epoch 17/20\n",
            "60000/60000 [==============================] - 14s 239us/step - loss: 0.3919 - acc: 0.9434 - val_loss: 0.2774 - val_acc: 0.9694\n",
            "Epoch 18/20\n",
            "60000/60000 [==============================] - 15s 243us/step - loss: 0.3917 - acc: 0.9446 - val_loss: 0.2886 - val_acc: 0.9689\n",
            "Epoch 19/20\n",
            "60000/60000 [==============================] - 14s 239us/step - loss: 0.3938 - acc: 0.9431 - val_loss: 0.2816 - val_acc: 0.9698\n",
            "Epoch 20/20\n",
            "60000/60000 [==============================] - 14s 238us/step - loss: 0.3834 - acc: 0.9449 - val_loss: 0.2738 - val_acc: 0.9708\n"
          ],
          "name": "stdout"
        }
      ]
    },
    {
      "cell_type": "code",
      "metadata": {
        "id": "dbHy6KFILDEE",
        "colab_type": "code",
        "outputId": "b4d3a307-5703-4e6f-f3e2-806bb36b5ca1",
        "colab": {
          "base_uri": "https://localhost:8080/",
          "height": 334
        }
      },
      "source": [
        "# Plot of loss vs epochs\n",
        "\n",
        "score= model_2_3.evaluate(X_test, y_test)\n",
        "print(\"Test SCore: \", score[0])\n",
        "print(\"Test Accuracy: \", score[1])\n",
        "\n",
        "fig, ax= plt.subplots(1,1)\n",
        "ax.set_xlabel('Epochs'); ax.set_ylabel(\"CATEGORICAL CROSS ENTROPY LOSS\")\n",
        "\n",
        "x=list(range(1, n_epoch+1))\n",
        "vy= m.history['val_loss']\n",
        "ty= m.history['loss']\n",
        "\n",
        "plot_dynamic(x,vy, ty, ax)"
      ],
      "execution_count": 0,
      "outputs": [
        {
          "output_type": "stream",
          "text": [
            "10000/10000 [==============================] - 1s 124us/step\n",
            "Test SCore:  0.2738086731672287\n",
            "Test Accuracy:  0.9708\n"
          ],
          "name": "stdout"
        },
        {
          "output_type": "display_data",
          "data": {
            "image/png": "[encoded data removed]",
            "text/plain": [
              "<Figure size 432x288 with 1 Axes>"
            ]
          },
          "metadata": {
            "tags": []
          }
        }
      ]
    },
    {
      "cell_type": "markdown",
      "metadata": {
        "id": "QxvNRRaKMz0D",
        "colab_type": "text"
      },
      "source": [
        "**Conclusion**\n",
        "01. Less accuracy and poor convergence in graph"
      ]
    },
    {
      "cell_type": "markdown",
      "metadata": {
        "id": "rl4TSo_LLT8X",
        "colab_type": "text"
      },
      "source": [
        "# 5 Layer Architecture\n",
        "**3.1 Without Batch Normalization and Droupout (No regularization)**"
      ]
    },
    {
      "cell_type": "code",
      "metadata": {
        "id": "VRRxx8oGLeWY",
        "colab_type": "code",
        "colab": {}
      },
      "source": [
        "# 5 hidden layers\n",
        "# 784-512-256-128-64-32-10\n",
        "# some model parameters\n",
        "\n",
        "output_dim= 10\n",
        "input_dim= 784\n",
        "hidden_1= 512\n",
        "hidden_2= 256\n",
        "hidden_3= 128\n",
        "hidden_4= 64\n",
        "hidden_5= 32\n",
        "batch_size= 200\n",
        "n_epoch= 20"
      ],
      "execution_count": 0,
      "outputs": []
    },
    {
      "cell_type": "code",
      "metadata": {
        "id": "RrmTsdOHL-5J",
        "colab_type": "code",
        "colab": {}
      },
      "source": [
        "model_3_1= Sequential()\n",
        "model_3_1.add(Dense(hidden_1, input_dim=input_dim, activation='relu'))\n",
        "model_3_1.add(Dense(hidden_2, activation='relu'))\n",
        "model_3_1.add(Dense(hidden_3, activation='relu'))\n",
        "model_3_1.add(Dense(hidden_4, activation='relu'))\n",
        "model_3_1.add(Dense(hidden_5, activation='relu'))\n",
        "model_3_1.add(Dense(output_dim, activation='softmax'))"
      ],
      "execution_count": 0,
      "outputs": []
    },
    {
      "cell_type": "code",
      "metadata": {
        "id": "qTzhYZEfNQDp",
        "colab_type": "code",
        "outputId": "02e55218-8ddc-4b6b-ad47-3e5a2d36665a",
        "colab": {
          "base_uri": "https://localhost:8080/",
          "height": 714
        }
      },
      "source": [
        "model_3_1.compile(optimizer='adam', loss='categorical_crossentropy', metrics=['accuracy'])\n",
        "m = model_3_1.fit(X_train, y_train, batch_size= batch_size, epochs= n_epoch, validation_data= (X_test, y_test)) "
      ],
      "execution_count": 0,
      "outputs": [
        {
          "output_type": "stream",
          "text": [
            "Train on 60000 samples, validate on 10000 samples\n",
            "Epoch 1/20\n",
            "60000/60000 [==============================] - 9s 149us/step - loss: 0.3018 - acc: 0.9085 - val_loss: 0.1561 - val_acc: 0.9535\n",
            "Epoch 2/20\n",
            "60000/60000 [==============================] - 8s 129us/step - loss: 0.1046 - acc: 0.9684 - val_loss: 0.0886 - val_acc: 0.9731\n",
            "Epoch 3/20\n",
            "60000/60000 [==============================] - 7s 124us/step - loss: 0.0697 - acc: 0.9788 - val_loss: 0.0818 - val_acc: 0.9749\n",
            "Epoch 4/20\n",
            "60000/60000 [==============================] - 8s 126us/step - loss: 0.0490 - acc: 0.9846 - val_loss: 0.0964 - val_acc: 0.9705\n",
            "Epoch 5/20\n",
            "60000/60000 [==============================] - 8s 133us/step - loss: 0.0357 - acc: 0.9885 - val_loss: 0.0736 - val_acc: 0.9778\n",
            "Epoch 6/20\n",
            "60000/60000 [==============================] - 8s 135us/step - loss: 0.0275 - acc: 0.9911 - val_loss: 0.0793 - val_acc: 0.9786\n",
            "Epoch 7/20\n",
            "60000/60000 [==============================] - 8s 139us/step - loss: 0.0252 - acc: 0.9918 - val_loss: 0.0743 - val_acc: 0.9800\n",
            "Epoch 8/20\n",
            "60000/60000 [==============================] - 8s 130us/step - loss: 0.0215 - acc: 0.9928 - val_loss: 0.0821 - val_acc: 0.9791\n",
            "Epoch 9/20\n",
            "60000/60000 [==============================] - 8s 131us/step - loss: 0.0192 - acc: 0.9941 - val_loss: 0.0885 - val_acc: 0.9763\n",
            "Epoch 10/20\n",
            "60000/60000 [==============================] - 8s 127us/step - loss: 0.0169 - acc: 0.9949 - val_loss: 0.1007 - val_acc: 0.9779\n",
            "Epoch 11/20\n",
            "60000/60000 [==============================] - 9s 146us/step - loss: 0.0174 - acc: 0.9944 - val_loss: 0.0996 - val_acc: 0.9746\n",
            "Epoch 12/20\n",
            "60000/60000 [==============================] - 8s 141us/step - loss: 0.0136 - acc: 0.9953 - val_loss: 0.0977 - val_acc: 0.9790\n",
            "Epoch 13/20\n",
            "60000/60000 [==============================] - 9s 142us/step - loss: 0.0163 - acc: 0.9945 - val_loss: 0.0854 - val_acc: 0.9819\n",
            "Epoch 14/20\n",
            "60000/60000 [==============================] - 8s 135us/step - loss: 0.0107 - acc: 0.9965 - val_loss: 0.0880 - val_acc: 0.9795\n",
            "Epoch 15/20\n",
            "60000/60000 [==============================] - 8s 138us/step - loss: 0.0116 - acc: 0.9966 - val_loss: 0.1163 - val_acc: 0.9764\n",
            "Epoch 16/20\n",
            "60000/60000 [==============================] - 8s 134us/step - loss: 0.0130 - acc: 0.9959 - val_loss: 0.0923 - val_acc: 0.9804\n",
            "Epoch 17/20\n",
            "60000/60000 [==============================] - 9s 143us/step - loss: 0.0109 - acc: 0.9965 - val_loss: 0.0872 - val_acc: 0.9823\n",
            "Epoch 18/20\n",
            "60000/60000 [==============================] - 8s 126us/step - loss: 0.0083 - acc: 0.9975 - val_loss: 0.1035 - val_acc: 0.9787\n",
            "Epoch 19/20\n",
            "60000/60000 [==============================] - 8s 138us/step - loss: 0.0122 - acc: 0.9962 - val_loss: 0.0888 - val_acc: 0.9799\n",
            "Epoch 20/20\n",
            "60000/60000 [==============================] - 8s 140us/step - loss: 0.0078 - acc: 0.9977 - val_loss: 0.1120 - val_acc: 0.9775\n"
          ],
          "name": "stdout"
        }
      ]
    },
    {
      "cell_type": "code",
      "metadata": {
        "id": "jFLFq00fNfHy",
        "colab_type": "code",
        "outputId": "49edb2af-259f-4ff8-9247-615d8b008298",
        "colab": {
          "base_uri": "https://localhost:8080/",
          "height": 334
        }
      },
      "source": [
        "# Plot of loss vs epochs\n",
        "\n",
        "score= model_3_1.evaluate(X_test, y_test)\n",
        "print(\"Test SCore: \", score[0])\n",
        "print(\"Test Accuracy: \", score[1])\n",
        "\n",
        "fig, ax= plt.subplots(1,1)\n",
        "ax.set_xlabel('Epochs'); ax.set_ylabel(\"CATEGORICAL CROSS ENTROPY LOSS\")\n",
        "\n",
        "x=list(range(1, n_epoch+1))\n",
        "vy= m.history['val_loss']\n",
        "ty= m.history['loss']\n",
        "\n",
        "plot_dynamic(x,vy, ty, ax)"
      ],
      "execution_count": 0,
      "outputs": [
        {
          "output_type": "stream",
          "text": [
            "10000/10000 [==============================] - 2s 213us/step\n",
            "Test SCore:  0.11195847964408749\n",
            "Test Accuracy:  0.9775\n"
          ],
          "name": "stdout"
        },
        {
          "output_type": "display_data",
          "data": {
            "image/png": "[encoded data removed]",
            "text/plain": [
              "<Figure size 432x288 with 1 Axes>"
            ]
          },
          "metadata": {
            "tags": []
          }
        }
      ]
    },
    {
      "cell_type": "markdown",
      "metadata": {
        "id": "RkTZqiynOcWX",
        "colab_type": "text"
      },
      "source": [
        "**Conclusion**\n",
        "01. Again without batch normalization and regularization we see overfitting.\n",
        "02. So we can conclude that batch normalization or regularization is required \n",
        "    to avoide overfiiting"
      ]
    },
    {
      "cell_type": "markdown",
      "metadata": {
        "id": "B7h0g1X-NqWS",
        "colab_type": "text"
      },
      "source": [
        "# 5 Layer Architecture\n",
        "**3.2 With Batch Normalization and Droupout (No regularization)**"
      ]
    },
    {
      "cell_type": "code",
      "metadata": {
        "id": "zJvPI0PmNw03",
        "colab_type": "code",
        "outputId": "608f0962-7288-4b3a-df62-b9c88842f284",
        "colab": {
          "base_uri": "https://localhost:8080/",
          "height": 697
        }
      },
      "source": [
        "model_3_2= Sequential()\n",
        "\n",
        "model_3_2.add(Dense(hidden_1, input_dim=input_dim, activation='relu'))\n",
        "model_3_2.add(BatchNormalization())\n",
        "model_3_2.add(Dropout(0.5))\n",
        "\n",
        "model_3_2.add(Dense(hidden_2, activation='relu'))\n",
        "model_3_2.add(BatchNormalization())\n",
        "model_3_2.add(Dropout(0.5))\n",
        "\n",
        "model_3_2.add(Dense(hidden_3, activation='relu'))\n",
        "model_3_2.add(BatchNormalization())\n",
        "model_3_2.add(Dropout(0.5))\n",
        "\n",
        "model_3_2.add(Dense(hidden_4, activation='relu'))\n",
        "model_3_2.add(BatchNormalization())\n",
        "model_3_2.add(Dropout(0.5))\n",
        "\n",
        "\n",
        "model_3_2.add(Dense(hidden_5, activation='relu'))\n",
        "model_3_2.add(BatchNormalization())\n",
        "model_3_2.add(Dropout(0.5))\n",
        "\n",
        "\n",
        "model_3_2.add(Dense(output_dim, activation='softmax'))\n",
        "model_3_2.summary()"
      ],
      "execution_count": 0,
      "outputs": [
        {
          "output_type": "stream",
          "text": [
            "Model: \"sequential_7\"\n",
            "_________________________________________________________________\n",
            "Layer (type)                 Output Shape              Param #   \n",
            "=================================================================\n",
            "dense_23 (Dense)             (None, 512)               401920    \n",
            "_________________________________________________________________\n",
            "batch_normalization_10 (Batc (None, 512)               2048      \n",
            "_________________________________________________________________\n",
            "dropout_10 (Dropout)         (None, 512)               0         \n",
            "_________________________________________________________________\n",
            "dense_24 (Dense)             (None, 256)               131328    \n",
            "_________________________________________________________________\n",
            "batch_normalization_11 (Batc (None, 256)               1024      \n",
            "_________________________________________________________________\n",
            "dropout_11 (Dropout)         (None, 256)               0         \n",
            "_________________________________________________________________\n",
            "dense_25 (Dense)             (None, 128)               32896     \n",
            "_________________________________________________________________\n",
            "batch_normalization_12 (Batc (None, 128)               512       \n",
            "_________________________________________________________________\n",
            "dropout_12 (Dropout)         (None, 128)               0         \n",
            "_________________________________________________________________\n",
            "dense_26 (Dense)             (None, 64)                8256      \n",
            "_________________________________________________________________\n",
            "batch_normalization_13 (Batc (None, 64)                256       \n",
            "_________________________________________________________________\n",
            "dropout_13 (Dropout)         (None, 64)                0         \n",
            "_________________________________________________________________\n",
            "dense_27 (Dense)             (None, 32)                2080      \n",
            "_________________________________________________________________\n",
            "batch_normalization_14 (Batc (None, 32)                128       \n",
            "_________________________________________________________________\n",
            "dropout_14 (Dropout)         (None, 32)                0         \n",
            "_________________________________________________________________\n",
            "dense_28 (Dense)             (None, 10)                330       \n",
            "=================================================================\n",
            "Total params: 580,778\n",
            "Trainable params: 578,794\n",
            "Non-trainable params: 1,984\n",
            "_________________________________________________________________\n"
          ],
          "name": "stdout"
        }
      ]
    },
    {
      "cell_type": "code",
      "metadata": {
        "id": "ojAbdQzoOWkB",
        "colab_type": "code",
        "outputId": "95edbb19-9c6a-408f-d05d-a78b2b0f5d31",
        "colab": {
          "base_uri": "https://localhost:8080/",
          "height": 714
        }
      },
      "source": [
        "model_3_2.compile(optimizer='adam', loss='categorical_crossentropy', metrics=['accuracy'])\n",
        "m = model_3_2.fit(X_train, y_train, batch_size= batch_size, epochs= n_epoch, validation_data= (X_test, y_test)) "
      ],
      "execution_count": 0,
      "outputs": [
        {
          "output_type": "stream",
          "text": [
            "Train on 60000 samples, validate on 10000 samples\n",
            "Epoch 1/20\n",
            "60000/60000 [==============================] - 13s 215us/step - loss: 1.5280 - acc: 0.5047 - val_loss: 0.3700 - val_acc: 0.8999\n",
            "Epoch 2/20\n",
            "60000/60000 [==============================] - 10s 169us/step - loss: 0.6323 - acc: 0.8190 - val_loss: 0.2213 - val_acc: 0.9398\n",
            "Epoch 3/20\n",
            "60000/60000 [==============================] - 10s 172us/step - loss: 0.4141 - acc: 0.8932 - val_loss: 0.1755 - val_acc: 0.9579\n",
            "Epoch 4/20\n",
            "60000/60000 [==============================] - 10s 172us/step - loss: 0.3277 - acc: 0.9192 - val_loss: 0.1453 - val_acc: 0.9636\n",
            "Epoch 5/20\n",
            "60000/60000 [==============================] - 10s 170us/step - loss: 0.2786 - acc: 0.9334 - val_loss: 0.1385 - val_acc: 0.9660\n",
            "Epoch 6/20\n",
            "60000/60000 [==============================] - 10s 169us/step - loss: 0.2499 - acc: 0.9404 - val_loss: 0.1236 - val_acc: 0.9686\n",
            "Epoch 7/20\n",
            "60000/60000 [==============================] - 10s 170us/step - loss: 0.2281 - acc: 0.9476 - val_loss: 0.1178 - val_acc: 0.9724\n",
            "Epoch 8/20\n",
            "60000/60000 [==============================] - 10s 174us/step - loss: 0.2083 - acc: 0.9521 - val_loss: 0.1175 - val_acc: 0.9715\n",
            "Epoch 9/20\n",
            "60000/60000 [==============================] - 10s 174us/step - loss: 0.1938 - acc: 0.9554 - val_loss: 0.1070 - val_acc: 0.9746\n",
            "Epoch 10/20\n",
            "60000/60000 [==============================] - 10s 171us/step - loss: 0.1852 - acc: 0.9577 - val_loss: 0.1060 - val_acc: 0.9757\n",
            "Epoch 11/20\n",
            "60000/60000 [==============================] - 10s 172us/step - loss: 0.1748 - acc: 0.9600 - val_loss: 0.1004 - val_acc: 0.9763\n",
            "Epoch 12/20\n",
            "60000/60000 [==============================] - 10s 172us/step - loss: 0.1656 - acc: 0.9622 - val_loss: 0.0916 - val_acc: 0.9780\n",
            "Epoch 13/20\n",
            "60000/60000 [==============================] - 11s 182us/step - loss: 0.1533 - acc: 0.9654 - val_loss: 0.0983 - val_acc: 0.9772\n",
            "Epoch 14/20\n",
            "60000/60000 [==============================] - 11s 178us/step - loss: 0.1437 - acc: 0.9677 - val_loss: 0.0928 - val_acc: 0.9782\n",
            "Epoch 15/20\n",
            "60000/60000 [==============================] - 11s 178us/step - loss: 0.1410 - acc: 0.9681 - val_loss: 0.0969 - val_acc: 0.9779\n",
            "Epoch 16/20\n",
            "60000/60000 [==============================] - 10s 168us/step - loss: 0.1385 - acc: 0.9693 - val_loss: 0.0866 - val_acc: 0.9800\n",
            "Epoch 17/20\n",
            "60000/60000 [==============================] - 10s 174us/step - loss: 0.1347 - acc: 0.9691 - val_loss: 0.0875 - val_acc: 0.9805\n",
            "Epoch 18/20\n",
            "60000/60000 [==============================] - 11s 177us/step - loss: 0.1271 - acc: 0.9717 - val_loss: 0.1003 - val_acc: 0.9794\n",
            "Epoch 19/20\n",
            "60000/60000 [==============================] - 10s 174us/step - loss: 0.1279 - acc: 0.9715 - val_loss: 0.0869 - val_acc: 0.9805\n",
            "Epoch 20/20\n",
            "60000/60000 [==============================] - 11s 175us/step - loss: 0.1193 - acc: 0.9734 - val_loss: 0.0818 - val_acc: 0.9810\n"
          ],
          "name": "stdout"
        }
      ]
    },
    {
      "cell_type": "code",
      "metadata": {
        "id": "M90Td60cO8gP",
        "colab_type": "code",
        "outputId": "9f86c06c-d86a-4d6f-9f47-af1ced145ff9",
        "colab": {
          "base_uri": "https://localhost:8080/",
          "height": 334
        }
      },
      "source": [
        "# Plot of loss vs epochs\n",
        "\n",
        "score= model_3_2.evaluate(X_test, y_test)\n",
        "print(\"Test SCore: \", score[0])\n",
        "print(\"Test Accuracy: \", score[1])\n",
        "\n",
        "fig, ax= plt.subplots(1,1)\n",
        "ax.set_xlabel('Epochs'); ax.set_ylabel(\"CATEGORICAL CROSS ENTROPY LOSS\")\n",
        "\n",
        "x=list(range(1, n_epoch+1))\n",
        "vy= m.history['val_loss']\n",
        "ty= m.history['loss']\n",
        "\n",
        "plot_dynamic(x,vy, ty, ax)"
      ],
      "execution_count": 0,
      "outputs": [
        {
          "output_type": "stream",
          "text": [
            "10000/10000 [==============================] - 2s 245us/step\n",
            "Test SCore:  0.08184210508980323\n",
            "Test Accuracy:  0.981\n"
          ],
          "name": "stdout"
        },
        {
          "output_type": "display_data",
          "data": {
            "image/png": "[encoded data removed]",
            "text/plain": [
              "<Figure size 432x288 with 1 Axes>"
            ]
          },
          "metadata": {
            "tags": []
          }
        }
      ]
    },
    {
      "cell_type": "markdown",
      "metadata": {
        "id": "TAzcCB0_P_p6",
        "colab_type": "text"
      },
      "source": [
        "**Conclusion**\n",
        "01. Almost same accuracy as 2 layer and 3 layer model.\n",
        "02. Better graph and no problem of overfitting.\n",
        "03. Still not worth using 5 layer."
      ]
    },
    {
      "cell_type": "markdown",
      "metadata": {
        "id": "QwOh9OuOPKBj",
        "colab_type": "text"
      },
      "source": [
        "# 5 Layer Architecture\n",
        "**3.3 Without Batch Normalization and Droupout (with regularization)**"
      ]
    },
    {
      "cell_type": "code",
      "metadata": {
        "id": "nqJt3EVyPSGK",
        "colab_type": "code",
        "colab": {}
      },
      "source": [
        "# In this model we are not going to use batch normalization and droupout but we are using l2 regularization.\n",
        "\n",
        "model_3_3= Sequential()\n",
        "model_3_3.add(Dense(hidden_1, input_dim=input_dim, kernel_regularizer=l2(0.01), activation='relu'))\n",
        "model_3_3.add(Dense(hidden_2, kernel_regularizer=l2(0.01), activation='relu'))\n",
        "model_3_3.add(Dense(hidden_3, kernel_regularizer=l2(0.01), activation='relu'))\n",
        "model_3_3.add(Dense(hidden_4, kernel_regularizer=l2(0.01), activation='relu'))\n",
        "model_3_3.add(Dense(hidden_5, kernel_regularizer=l2(0.01), activation='relu'))\n",
        "model_3_3.add(Dense(output_dim, activation='softmax'))"
      ],
      "execution_count": 0,
      "outputs": []
    },
    {
      "cell_type": "code",
      "metadata": {
        "id": "Fi6od-wCPpCt",
        "colab_type": "code",
        "outputId": "776b9726-f471-4581-ec6f-837cc4f0e71d",
        "colab": {
          "base_uri": "https://localhost:8080/",
          "height": 714
        }
      },
      "source": [
        "model_3_3.compile(optimizer='adam', loss='categorical_crossentropy', metrics=['accuracy'])\n",
        "m = model_3_3.fit(X_train, y_train, batch_size= batch_size, epochs= n_epoch, validation_data= (X_test, y_test)) "
      ],
      "execution_count": 0,
      "outputs": [
        {
          "output_type": "stream",
          "text": [
            "Train on 60000 samples, validate on 10000 samples\n",
            "Epoch 1/20\n",
            "60000/60000 [==============================] - 10s 173us/step - loss: 2.8677 - acc: 0.8508 - val_loss: 1.2722 - val_acc: 0.8775\n",
            "Epoch 2/20\n",
            "60000/60000 [==============================] - 8s 138us/step - loss: 1.0649 - acc: 0.9106 - val_loss: 0.9411 - val_acc: 0.9223\n",
            "Epoch 3/20\n",
            "60000/60000 [==============================] - 9s 147us/step - loss: 0.8804 - acc: 0.9224 - val_loss: 0.8168 - val_acc: 0.9320\n",
            "Epoch 4/20\n",
            "60000/60000 [==============================] - 9s 147us/step - loss: 0.7920 - acc: 0.9307 - val_loss: 0.7410 - val_acc: 0.9373\n",
            "Epoch 5/20\n",
            "60000/60000 [==============================] - 9s 148us/step - loss: 0.7418 - acc: 0.9336 - val_loss: 0.7119 - val_acc: 0.9356\n",
            "Epoch 6/20\n",
            "60000/60000 [==============================] - 8s 139us/step - loss: 0.7038 - acc: 0.9360 - val_loss: 0.6897 - val_acc: 0.9366\n",
            "Epoch 7/20\n",
            "60000/60000 [==============================] - 8s 139us/step - loss: 0.6709 - acc: 0.9390 - val_loss: 0.6501 - val_acc: 0.9385\n",
            "Epoch 8/20\n",
            "60000/60000 [==============================] - 9s 154us/step - loss: 0.6427 - acc: 0.9418 - val_loss: 0.6204 - val_acc: 0.9439\n",
            "Epoch 9/20\n",
            "60000/60000 [==============================] - 9s 154us/step - loss: 0.6231 - acc: 0.9412 - val_loss: 0.6044 - val_acc: 0.9452\n",
            "Epoch 10/20\n",
            "60000/60000 [==============================] - 8s 142us/step - loss: 0.6057 - acc: 0.9439 - val_loss: 0.5800 - val_acc: 0.9491\n",
            "Epoch 11/20\n",
            "60000/60000 [==============================] - 9s 144us/step - loss: 0.5884 - acc: 0.9456 - val_loss: 0.5600 - val_acc: 0.9518\n",
            "Epoch 12/20\n",
            "60000/60000 [==============================] - 9s 153us/step - loss: 0.5766 - acc: 0.9477 - val_loss: 0.5568 - val_acc: 0.9497\n",
            "Epoch 13/20\n",
            "60000/60000 [==============================] - 8s 140us/step - loss: 0.5681 - acc: 0.9479 - val_loss: 0.5447 - val_acc: 0.9500\n",
            "Epoch 14/20\n",
            "60000/60000 [==============================] - 8s 141us/step - loss: 0.5574 - acc: 0.9489 - val_loss: 0.5981 - val_acc: 0.9349\n",
            "Epoch 15/20\n",
            "60000/60000 [==============================] - 9s 145us/step - loss: 0.5483 - acc: 0.9508 - val_loss: 0.5469 - val_acc: 0.9461\n",
            "Epoch 16/20\n",
            "60000/60000 [==============================] - 9s 153us/step - loss: 0.5387 - acc: 0.9519 - val_loss: 0.5247 - val_acc: 0.9530\n",
            "Epoch 17/20\n",
            "60000/60000 [==============================] - 9s 145us/step - loss: 0.5371 - acc: 0.9506 - val_loss: 0.5260 - val_acc: 0.9498\n",
            "Epoch 18/20\n",
            "60000/60000 [==============================] - 9s 145us/step - loss: 0.5272 - acc: 0.9510 - val_loss: 0.5285 - val_acc: 0.9446\n",
            "Epoch 19/20\n",
            "60000/60000 [==============================] - 9s 150us/step - loss: 0.5203 - acc: 0.9520 - val_loss: 0.5091 - val_acc: 0.9521\n",
            "Epoch 20/20\n",
            "60000/60000 [==============================] - 9s 154us/step - loss: 0.5138 - acc: 0.9534 - val_loss: 0.5152 - val_acc: 0.9477\n"
          ],
          "name": "stdout"
        }
      ]
    },
    {
      "cell_type": "code",
      "metadata": {
        "id": "--3X9vpIQUEX",
        "colab_type": "code",
        "outputId": "797cb4c8-a4f5-409e-bd69-abfbf8828f2f",
        "colab": {
          "base_uri": "https://localhost:8080/",
          "height": 334
        }
      },
      "source": [
        "# Plot of loss vs epochs\n",
        "\n",
        "score= model_3_3.evaluate(X_test, y_test)\n",
        "print(\"Test SCore: \", score[0])\n",
        "print(\"Test Accuracy: \", score[1])\n",
        "\n",
        "fig, ax= plt.subplots(1,1)\n",
        "ax.set_xlabel('Epochs'); ax.set_ylabel(\"CATEGORICAL CROSS ENTROPY LOSS\")\n",
        "\n",
        "x=list(range(1, n_epoch+1))\n",
        "vy= m.history['val_loss']\n",
        "ty= m.history['loss']\n",
        "\n",
        "plot_dynamic(x,vy, ty, ax)"
      ],
      "execution_count": 0,
      "outputs": [
        {
          "output_type": "stream",
          "text": [
            "10000/10000 [==============================] - 1s 125us/step\n",
            "Test SCore:  0.5152274724006652\n",
            "Test Accuracy:  0.9477\n"
          ],
          "name": "stdout"
        },
        {
          "output_type": "display_data",
          "data": {
            "image/png": "[encoded data removed]",
            "text/plain": [
              "<Figure size 432x288 with 1 Axes>"
            ]
          },
          "metadata": {
            "tags": []
          }
        }
      ]
    },
    {
      "cell_type": "markdown",
      "metadata": {
        "id": "msQcmW9IRYbE",
        "colab_type": "text"
      },
      "source": [
        "**Conclusion**\n",
        "01. Best graph till now.\n",
        "02. Low accuracy than previous models "
      ]
    },
    {
      "cell_type": "markdown",
      "metadata": {
        "id": "nF-h8sh1Qibm",
        "colab_type": "text"
      },
      "source": [
        "# Overall Conclusion and best model\n",
        "\n",
        "**01. We have observed that without batch normalization, dropout or                   regularization model gets overfitted. So these are neccessary**\n",
        "\n",
        "**02. By increasing the layers we didn't observe much changes in the accuracy and loss.**\n",
        "\n",
        "**03. Thus it is better to use a 2 layer achitecture**\n",
        "\n",
        "**Best Model:-**\n",
        "\n",
        "01. Keeping in mind all the above mentioned cases the best model is **Model 1.2**\n",
        "02. That is 2 layer achitecture with batch normalization and dropout.\n",
        "03. Input layer(784)-- Hidden layer 1(350)-- hidden layer 2(150)-- Output layer(10) "
      ]
    }
  ]
}